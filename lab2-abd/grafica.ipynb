{
 "cells": [
  {
   "cell_type": "code",
   "execution_count": 1,
   "metadata": {},
   "outputs": [],
   "source": [
    "from jupyter_dash import JupyterDash\n",
    "import dash_core_components as dcc\n",
    "import dash_html_components as html\n",
    "from dash.dependencies import (Input, Output)\n",
    "import plotly.graph_objs as go\n",
    "\n",
    "import pandas as pd\n",
    "import time\n",
    "import random\n",
    "from csv import writer\n",
    "import os"
   ]
  },
  {
   "cell_type": "code",
   "execution_count": 2,
   "metadata": {},
   "outputs": [
    {
     "data": {
      "text/html": [
       "\n",
       "        <iframe\n",
       "            width=\"100%\"\n",
       "            height=\"650\"\n",
       "            src=\"http://127.0.0.1:8050/\"\n",
       "            frameborder=\"0\"\n",
       "            allowfullscreen\n",
       "        ></iframe>\n",
       "        "
      ],
      "text/plain": [
       "<IPython.lib.display.IFrame at 0x1e71b4cb310>"
      ]
     },
     "metadata": {},
     "output_type": "display_data"
    }
   ],
   "source": [
    "#Se necesita correr primero el suscriptor para generar los csv\n",
    "#Grafico nevera\n",
    "app = JupyterDash(__name__)\n",
    "\n",
    "\n",
    "app.layout = html.Div([\n",
    "    dcc.Graph(id='demo-live'),\n",
    "    dcc.Interval(id='output-update', interval=2*1000)\n",
    "])\n",
    "\n",
    "@app.callback(\n",
    "    Output(component_id='demo-live', component_property='figure'),\n",
    "    [Input(component_id='output-update', component_property='n_intervals')]\n",
    ")\n",
    "\n",
    "\n",
    "def get_live_updates(n_intervals):\n",
    "    time.sleep(0.5)\n",
    "    df = pd.read_csv('nevera.csv')\n",
    "    y = df['temperature'].to_list()\n",
    "    x = df['time'].to_list()\n",
    "    data = go.Scatter(\n",
    "        x=list(x),\n",
    "        y=list(y),\n",
    "        name='Scatter',\n",
    "        mode= 'lines+markers'\n",
    "    )\n",
    "    layout = go.Layout(\n",
    "        autosize=False,\n",
    "        width=780,\n",
    "        height=500,\n",
    "        margin=dict(l=20, r=20, t=20, b=20),\n",
    "    )\n",
    "    fig = {'data' : [data], 'layout' : layout}\n",
    "    return fig\n",
    "\n",
    "\n",
    "app.run_server(mode='inline')"
   ]
  },
  {
   "cell_type": "code",
   "execution_count": 3,
   "metadata": {},
   "outputs": [
    {
     "data": {
      "text/html": [
       "\n",
       "        <iframe\n",
       "            width=\"100%\"\n",
       "            height=\"650\"\n",
       "            src=\"http://127.0.0.1:8050/\"\n",
       "            frameborder=\"0\"\n",
       "            allowfullscreen\n",
       "        ></iframe>\n",
       "        "
      ],
      "text/plain": [
       "<IPython.lib.display.IFrame at 0x1e71b4c24f0>"
      ]
     },
     "metadata": {},
     "output_type": "display_data"
    }
   ],
   "source": [
    "#Grafico olla\n",
    "app = JupyterDash(__name__)\n",
    "\n",
    "\n",
    "app.layout = html.Div([\n",
    "    dcc.Graph(id='demo-live'),\n",
    "    dcc.Interval(id='output-update', interval=2*1000)\n",
    "])\n",
    "\n",
    "@app.callback(\n",
    "    Output(component_id='demo-live', component_property='figure'),\n",
    "    [Input(component_id='output-update', component_property='n_intervals')]\n",
    ")\n",
    "\n",
    "\n",
    "def get_live_updates(n_intervals):\n",
    "    time.sleep(0.5)\n",
    "    df = pd.read_csv('olla.csv')\n",
    "    y = df['temperature'].to_list()\n",
    "    x = df['time'].to_list()\n",
    "    data = go.Scatter(\n",
    "        x=list(x),\n",
    "        y=list(y),\n",
    "        name='Scatter',\n",
    "        mode= 'lines+markers'\n",
    "    )\n",
    "    layout = go.Layout(\n",
    "        autosize=False,\n",
    "        width=780,\n",
    "        height=500,\n",
    "        margin=dict(l=20, r=20, t=20, b=20),\n",
    "    )\n",
    "    fig = {'data' : [data], 'layout' : layout}\n",
    "    return fig\n",
    "\n",
    "\n",
    "app.run_server(mode='inline')"
   ]
  },
  {
   "cell_type": "code",
   "execution_count": 4,
   "metadata": {},
   "outputs": [
    {
     "data": {
      "text/html": [
       "\n",
       "        <iframe\n",
       "            width=\"100%\"\n",
       "            height=\"650\"\n",
       "            src=\"http://127.0.0.1:8050/\"\n",
       "            frameborder=\"0\"\n",
       "            allowfullscreen\n",
       "        ></iframe>\n",
       "        "
      ],
      "text/plain": [
       "<IPython.lib.display.IFrame at 0x1e71b5218e0>"
      ]
     },
     "metadata": {},
     "output_type": "display_data"
    }
   ],
   "source": [
    "#Grafico sala\n",
    "app = JupyterDash(__name__)\n",
    "\n",
    "\n",
    "app.layout = html.Div([\n",
    "    dcc.Graph(id='demo-live'),\n",
    "    dcc.Interval(id='output-update', interval=2*1000)\n",
    "])\n",
    "\n",
    "@app.callback(\n",
    "    Output(component_id='demo-live', component_property='figure'),\n",
    "    [Input(component_id='output-update', component_property='n_intervals')]\n",
    ")\n",
    "\n",
    "\n",
    "def get_live_updates(n_intervals):\n",
    "    time.sleep(0.5)\n",
    "    df = pd.read_csv('sala.csv')\n",
    "    y = df['contador_personas'].to_list()\n",
    "    x = df['time'].to_list()\n",
    "    data = go.Scatter(\n",
    "        x=list(x),\n",
    "        y=list(y),\n",
    "        name='Scatter',\n",
    "        mode= 'lines+markers'\n",
    "    )\n",
    "    layout = go.Layout(\n",
    "        autosize=False,\n",
    "        width=780,\n",
    "        height=500,\n",
    "        margin=dict(l=20, r=20, t=20, b=20),\n",
    "    )\n",
    "    fig = {'data' : [data], 'layout' : layout}\n",
    "    return fig\n",
    "\n",
    "\n",
    "app.run_server(mode='inline')"
   ]
  },
  {
   "cell_type": "code",
   "execution_count": 5,
   "metadata": {},
   "outputs": [
    {
     "data": {
      "text/html": [
       "\n",
       "        <iframe\n",
       "            width=\"100%\"\n",
       "            height=\"650\"\n",
       "            src=\"http://127.0.0.1:8050/\"\n",
       "            frameborder=\"0\"\n",
       "            allowfullscreen\n",
       "        ></iframe>\n",
       "        "
      ],
      "text/plain": [
       "<IPython.lib.display.IFrame at 0x1e71b817e50>"
      ]
     },
     "metadata": {},
     "output_type": "display_data"
    }
   ],
   "source": [
    "#Grafico alexa\n",
    "app = JupyterDash(__name__)\n",
    "\n",
    "\n",
    "app.layout = html.Div([\n",
    "    dcc.Graph(id='demo-live'),\n",
    "    dcc.Interval(id='output-update', interval=2*1000)\n",
    "])\n",
    "\n",
    "@app.callback(\n",
    "    Output(component_id='demo-live', component_property='figure'),\n",
    "    [Input(component_id='output-update', component_property='n_intervals')]\n",
    ")\n",
    "\n",
    "\n",
    "def get_live_updates(n_intervals):\n",
    "    time.sleep(0.5)\n",
    "    df = pd.read_csv('alexa.csv')\n",
    "    y = df['temperature'].to_list()\n",
    "    x = df['time'].to_list()\n",
    "    data = go.Scatter(\n",
    "        x=list(x),\n",
    "        y=list(y),\n",
    "        name='Scatter',\n",
    "        mode= 'lines+markers'\n",
    "    )\n",
    "    layout = go.Layout(\n",
    "        autosize=False,\n",
    "        width=780,\n",
    "        height=500,\n",
    "        margin=dict(l=20, r=20, t=20, b=20),\n",
    "    )\n",
    "    fig = {'data' : [data], 'layout' : layout}\n",
    "    return fig\n",
    "\n",
    "\n",
    "app.run_server(mode='inline')"
   ]
  },
  {
   "cell_type": "code",
   "execution_count": 6,
   "metadata": {},
   "outputs": [
    {
     "data": {
      "text/html": [
       "\n",
       "        <iframe\n",
       "            width=\"100%\"\n",
       "            height=\"650\"\n",
       "            src=\"http://127.0.0.1:8050/\"\n",
       "            frameborder=\"0\"\n",
       "            allowfullscreen\n",
       "        ></iframe>\n",
       "        "
      ],
      "text/plain": [
       "<IPython.lib.display.IFrame at 0x1e71a35cbe0>"
      ]
     },
     "metadata": {},
     "output_type": "display_data"
    }
   ],
   "source": [
    "#Grafico tanque\n",
    "app = JupyterDash(__name__)\n",
    "\n",
    "\n",
    "app.layout = html.Div([\n",
    "    dcc.Graph(id='demo-live'),\n",
    "    dcc.Interval(id='output-update', interval=2*1000)\n",
    "])\n",
    "\n",
    "@app.callback(\n",
    "    Output(component_id='demo-live', component_property='figure'),\n",
    "    [Input(component_id='output-update', component_property='n_intervals')]\n",
    ")\n",
    "\n",
    "\n",
    "def get_live_updates(n_intervals):\n",
    "    time.sleep(0.5)\n",
    "    df = pd.read_csv('tanque.csv')\n",
    "    y = df['medidor'].to_list()\n",
    "    x = df['time'].to_list()\n",
    "    data = go.Scatter(\n",
    "        x=list(x),\n",
    "        y=list(y),\n",
    "        name='Scatter',\n",
    "        mode= 'lines+markers'\n",
    "    )\n",
    "    layout = go.Layout(\n",
    "        autosize=False,\n",
    "        width=780,\n",
    "        height=500,\n",
    "        margin=dict(l=20, r=20, t=20, b=20),\n",
    "    )\n",
    "    fig = {'data' : [data], 'layout' : layout}\n",
    "    return fig\n",
    "\n",
    "\n",
    "app.run_server(mode='inline')"
   ]
  },
  {
   "cell_type": "code",
   "execution_count": null,
   "metadata": {},
   "outputs": [],
   "source": [
    "df = pd.read_csv(\"sala.csv\")\n",
    "df.head()"
   ]
  },
  {
   "cell_type": "code",
   "execution_count": null,
   "metadata": {},
   "outputs": [],
   "source": []
  }
 ],
 "metadata": {
  "kernelspec": {
   "display_name": "Python 3",
   "language": "python",
   "name": "python3"
  },
  "language_info": {
   "codemirror_mode": {
    "name": "ipython",
    "version": 3
   },
   "file_extension": ".py",
   "mimetype": "text/x-python",
   "name": "python",
   "nbconvert_exporter": "python",
   "pygments_lexer": "ipython3",
   "version": "3.8.5"
  }
 },
 "nbformat": 4,
 "nbformat_minor": 4
}
